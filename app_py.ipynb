{
  "nbformat": 4,
  "nbformat_minor": 0,
  "metadata": {
    "colab": {
      "provenance": []
    },
    "kernelspec": {
      "name": "python3",
      "display_name": "Python 3"
    },
    "language_info": {
      "name": "python"
    }
  },
  "cells": [
    {
      "cell_type": "code",
      "execution_count": null,
      "metadata": {
        "colab": {
          "base_uri": "https://localhost:8080/"
        },
        "id": "liOQ99thAgwE",
        "outputId": "778b6552-2a56-472c-a02c-4c7c72de8c13"
      },
      "outputs": [
        {
          "output_type": "stream",
          "name": "stdout",
          "text": [
            "Writing app.py\n"
          ]
        }
      ],
      "source": [
        "%%writefile app.py\n",
        "\n",
        "import pandas as pd\n",
        "from mlxtend.frequent_patterns import fpgrowth, association_rules\n",
        "import streamlit as st\n",
        "import matplotlib.pyplot as plt\n",
        "\n",
        "# Load the dataset\n",
        "file_path = '/content/drive/My Drive/MLdataset.csv'\n",
        "df = pd.read_csv(file_path)\n",
        "\n",
        "# Select the first 80000 rows and relevant columns\n",
        "df = df.iloc[0:80000]\n",
        "keep_columns = ['Crm Cd Desc', 'Vict Sex', 'Vict Descent', 'Premis Desc', 'Weapon Desc']\n",
        "df = df[keep_columns]\n",
        "\n",
        "# Replace null values in selected columns\n",
        "df['Vict Sex'] = df['Vict Sex'].fillna('N/A')\n",
        "df['Vict Descent'] = df['Vict Descent'].fillna('N/A')\n",
        "df['Premis Desc'] = df['Premis Desc'].fillna('N/A')\n",
        "df['Weapon Desc'] = df['Weapon Desc'].fillna('N/A')\n",
        "\n",
        "# One-hot encoding for categorical columns\n",
        "df = pd.get_dummies(df, columns=keep_columns)\n",
        "\n",
        "# Streamlit Sidebar for Adjusting Support and Confidence\n",
        "st.sidebar.header('Association Rule Parameters')\n",
        "min_support = st.sidebar.slider('Minimum Support', 0.01, 0.5, 0.1, 0.01)\n",
        "min_confidence = st.sidebar.slider('Minimum Confidence', 0.1, 1.0, 0.7, 0.05)\n",
        "\n",
        "# Apply FP-Growth algorithm with the user-selected support threshold\n",
        "frequent_itemsets = fpgrowth(df, min_support=min_support, use_colnames=True)\n",
        "\n",
        "# Extract association rules with the user-selected confidence threshold\n",
        "rules = association_rules(frequent_itemsets, metric=\"confidence\", min_threshold=min_confidence)\n",
        "rules = rules[rules['lift'] > 1.2]  # Only keep rules with lift > 1.2\n",
        "\n",
        "# Display the relevant rule columns\n",
        "limitedCol = rules[['antecedents', 'consequents', 'support', 'confidence', 'lift']]\n",
        "st.write('Association Rules:', limitedCol)\n",
        "\n",
        "# Visualize the support vs confidence for the generated rules\n",
        "st.write('Support vs Confidence')\n",
        "fig, ax = plt.subplots()\n",
        "ax.scatter(rules['support'], rules['confidence'], alpha=0.5)\n",
        "ax.set_xlabel('Support')\n",
        "ax.set_ylabel('Confidence')\n",
        "ax.set_title('Support vs Confidence')\n",
        "st.pyplot(fig)\n",
        "\n",
        "# Sort rules by confidence and display top 10\n",
        "sorted_rules = limitedCol.sort_values(by='confidence', ascending=False).head(10)\n",
        "\n",
        "# Create a bar plot for the top 10 rules based on confidence\n",
        "st.write('Top 10 Association Rules by Confidence')\n",
        "fig, ax = plt.subplots(figsize=(10, 6))\n",
        "ax.barh(range(len(sorted_rules)), sorted_rules['confidence'], color='skyblue')\n",
        "ax.set_yticks(range(len(sorted_rules)))\n",
        "ax.set_yticklabels([f\"{list(ante)} → {list(cons)}\" for ante, cons in zip(sorted_rules['antecedents'], sorted_rules['consequents'])])\n",
        "ax.set_xlabel('Confidence')\n",
        "ax.set_title('Top 10 Association Rules by Confidence')\n",
        "ax.invert_yaxis()\n",
        "st.pyplot(fig)\n"
      ]
    }
  ]
}